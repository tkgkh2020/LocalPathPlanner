{
 "cells": [
  {
   "cell_type": "markdown",
   "metadata": {},
   "source": [
    "# 多項式近似"
   ]
  },
  {
   "cell_type": "markdown",
   "metadata": {},
   "source": [
    "[matplotlib日本語対応win10ver](https://gammasoft.jp/blog/matplotlib-japanese-fonts/)"
   ]
  },
  {
   "cell_type": "markdown",
   "metadata": {},
   "source": [
    "[qiita_Pythonで近似式計算](https://qiita.com/wrblue_mica34/items/0f26612207b78b68c4a1)"
   ]
  },
  {
   "cell_type": "code",
   "execution_count": 1,
   "metadata": {},
   "outputs": [
    {
     "data": {
      "image/png": "[encoded data removed]",
      "text/plain": [
       "<Figure size 432x288 with 1 Axes>"
      ]
     },
     "metadata": {
      "needs_background": "light"
     },
     "output_type": "display_data"
    }
   ],
   "source": [
    "import numpy as np\n",
    "from matplotlib import pyplot as plt\n",
    "\n",
    "x= np.linspace(-10,10,20)\n",
    "y= x**3 +  2*x**2 + 3*x + 10+ np.random.randn(20)*50\n",
    "\n",
    "#polyfitによる3次近似式の係数\n",
    "res3=np.polyfit(x, y, 3)\n",
    "#近似式の計算\n",
    "y3 = np.poly1d(res3)(x) #3次\n",
    "\n",
    "#グラフ表示\n",
    "#plt.rcParams['font.family'] = 'IPAexGothic'\n",
    "plt.scatter(x, y, label='元のデータ')\n",
    "plt.plot(x, y3, label='polyfit: 3次近似')\n",
    "plt.legend(prop={\"family\":\"MS Gothic\"})\n",
    "plt.show()"
   ]
  },
  {
   "cell_type": "code",
   "execution_count": 2,
   "metadata": {},
   "outputs": [
    {
     "name": "stdout",
     "output_type": "stream",
     "text": [
      "C:\\Users\\KAZU\\.matplotlib\n"
     ]
    }
   ],
   "source": [
    "import matplotlib\n",
    "print(matplotlib.get_configdir())"
   ]
  },
  {
   "cell_type": "code",
   "execution_count": 3,
   "metadata": {},
   "outputs": [
    {
     "data": {
      "text/plain": [
       "array([ 0.93842352,  1.86848441,  6.14546056, 14.31333328])"
      ]
     },
     "execution_count": 3,
     "metadata": {},
     "output_type": "execute_result"
    }
   ],
   "source": [
    "res3"
   ]
  },
  {
   "cell_type": "code",
   "execution_count": 17,
   "metadata": {},
   "outputs": [
    {
     "data": {
      "text/plain": [
       "array([[-1.00000000e+03,  1.00000000e+02, -1.00000000e+01,\n",
       "         1.00000000e+00],\n",
       "       [-7.16285173e+02,  8.00554017e+01, -8.94736842e+00,\n",
       "         1.00000000e+00],\n",
       "       [-4.92054235e+02,  6.23268698e+01, -7.89473684e+00,\n",
       "         1.00000000e+00],\n",
       "       [-3.20309083e+02,  4.68144044e+01, -6.84210526e+00,\n",
       "         1.00000000e+00],\n",
       "       [-1.94051611e+02,  3.35180055e+01, -5.78947368e+00,\n",
       "         1.00000000e+00],\n",
       "       [-1.06283715e+02,  2.24376731e+01, -4.73684211e+00,\n",
       "         1.00000000e+00],\n",
       "       [-5.00072897e+01,  1.35734072e+01, -3.68421053e+00,\n",
       "         1.00000000e+00],\n",
       "       [-1.82242309e+01,  6.92520776e+00, -2.63157895e+00,\n",
       "         1.00000000e+00],\n",
       "       [-3.93643388e+00,  2.49307479e+00, -1.57894737e+00,\n",
       "         1.00000000e+00],\n",
       "       [-1.45793847e-01,  2.77008310e-01, -5.26315789e-01,\n",
       "         1.00000000e+00],\n",
       "       [ 1.45793847e-01,  2.77008310e-01,  5.26315789e-01,\n",
       "         1.00000000e+00],\n",
       "       [ 3.93643388e+00,  2.49307479e+00,  1.57894737e+00,\n",
       "         1.00000000e+00],\n",
       "       [ 1.82242309e+01,  6.92520776e+00,  2.63157895e+00,\n",
       "         1.00000000e+00],\n",
       "       [ 5.00072897e+01,  1.35734072e+01,  3.68421053e+00,\n",
       "         1.00000000e+00],\n",
       "       [ 1.06283715e+02,  2.24376731e+01,  4.73684211e+00,\n",
       "         1.00000000e+00],\n",
       "       [ 1.94051611e+02,  3.35180055e+01,  5.78947368e+00,\n",
       "         1.00000000e+00],\n",
       "       [ 3.20309083e+02,  4.68144044e+01,  6.84210526e+00,\n",
       "         1.00000000e+00],\n",
       "       [ 4.92054235e+02,  6.23268698e+01,  7.89473684e+00,\n",
       "         1.00000000e+00],\n",
       "       [ 7.16285173e+02,  8.00554017e+01,  8.94736842e+00,\n",
       "         1.00000000e+00],\n",
       "       [ 1.00000000e+03,  1.00000000e+02,  1.00000000e+01,\n",
       "         1.00000000e+00]])"
      ]
     },
     "execution_count": 17,
     "metadata": {},
     "output_type": "execute_result"
    }
   ],
   "source": [
    "one = np.ones_like(x)\n",
    "X1 = np.stack([x*x*x,x*x,x,one],1)\n",
    "X1"
   ]
  },
  {
   "cell_type": "markdown",
   "metadata": {},
   "source": [
    "## 行列演算による多項式近似"
   ]
  },
  {
   "cell_type": "markdown",
   "metadata": {},
   "source": [
    "[行列演算を用いた最小二乗の解法を理解する](https://campkougaku.com/2019/10/24/math1/#toc10)\n",
    "<br>[線型基底関数モデル](https://python.atelierkobato.com/kitei/)"
   ]
  },
  {
   "cell_type": "code",
   "execution_count": 19,
   "metadata": {},
   "outputs": [
    {
     "data": {
      "image/png": "[encoded data removed]",
      "text/plain": [
       "<Figure size 432x288 with 1 Axes>"
      ]
     },
     "metadata": {
      "needs_background": "light"
     },
     "output_type": "display_data"
    }
   ],
   "source": [
    "import numpy as np\n",
    "from matplotlib import pyplot as plt\n",
    "\n",
    "x= np.linspace(-10,10,20)\n",
    "y= x**3 +  2*x**2 + 3*x + 10+ np.random.randn(20)*50\n",
    "\n",
    "#行列演算による3次近似式の係数\n",
    "one = np.ones_like(x)\n",
    "X = np.stack([x*x*x,x*x,x,one],1)\n",
    "invX1 = np.linalg.inv(np.dot(X.T,X))\n",
    "X1tY = np.dot(X.T,y)\n",
    "ans1 = np.dot(invX1,X1tY)\n",
    "\n",
    "#近似式の計算\n",
    "y_ans = np.poly1d(ans1)(x) #3次\n",
    "\n",
    "#グラフ表示\n",
    "#plt.rcParams['font.family'] = 'IPAexGothic'\n",
    "plt.scatter(x, y, label='元のデータ')\n",
    "plt.plot(x, y_ans, label='行列演算: 3次近似')\n",
    "plt.legend(prop={\"family\":\"MS Gothic\"})\n",
    "plt.show()"
   ]
  },
  {
   "cell_type": "markdown",
   "metadata": {},
   "source": [
    "## polyfitと行列演算による多項式近似"
   ]
  },
  {
   "cell_type": "code",
   "execution_count": 59,
   "metadata": {},
   "outputs": [
    {
     "data": {
      "image/png": "[encoded data removed]",
      "text/plain": [
       "<Figure size 432x288 with 1 Axes>"
      ]
     },
     "metadata": {
      "needs_background": "light"
     },
     "output_type": "display_data"
    }
   ],
   "source": [
    "import numpy as np\n",
    "from matplotlib import pyplot as plt\n",
    "\n",
    "x= np.linspace(-10,10,20)\n",
    "y= x**3 +  2*x**2 + 3*x + 10+ np.random.randn(20)*50\n",
    "\n",
    "#polyfitによる3次近似式の係数\n",
    "res3=np.polyfit(x, y, 3)\n",
    "\n",
    "#行列演算による3次近似式の係数\n",
    "one = np.ones_like(x)\n",
    "X = np.stack([x*x*x,x*x,x,one],1)\n",
    "invX1 = np.linalg.inv(np.dot(X.T,X))\n",
    "X1tY = np.dot(X.T,y)\n",
    "ans1 = np.dot(invX1,X1tY)\n",
    "\n",
    "#近似式の計算\n",
    "y3 = np.poly1d(res3)(x) #3次 polyfit\n",
    "y_ans = np.poly1d(ans1)(x) #3次 行列演算\n",
    "\n",
    "#グラフ表示\n",
    "#plt.rcParams['font.family'] = 'IPAexGothic'\n",
    "plt.scatter(x, y, label='元のデータ')\n",
    "plt.plot(x, y3, label='polyfit: 3次近似')\n",
    "plt.scatter(x, y_ans, label='行列演算: 3次近似')\n",
    "plt.legend(prop={\"family\":\"MS Gothic\"})\n",
    "plt.show()"
   ]
  },
  {
   "cell_type": "markdown",
   "metadata": {},
   "source": [
    "## 誤差のヒストグラム"
   ]
  },
  {
   "cell_type": "code",
   "execution_count": null,
   "metadata": {},
   "outputs": [],
   "source": []
  },
  {
   "cell_type": "code",
   "execution_count": null,
   "metadata": {},
   "outputs": [],
   "source": []
  },
  {
   "cell_type": "code",
   "execution_count": null,
   "metadata": {},
   "outputs": [],
   "source": []
  },
  {
   "cell_type": "code",
   "execution_count": null,
   "metadata": {},
   "outputs": [],
   "source": []
  }
 ],
 "metadata": {
  "kernelspec": {
   "display_name": "Python 3",
   "language": "python",
   "name": "python3"
  },
  "language_info": {
   "codemirror_mode": {
    "name": "ipython",
    "version": 3
   },
   "file_extension": ".py",
   "mimetype": "text/x-python",
   "name": "python",
   "nbconvert_exporter": "python",
   "pygments_lexer": "ipython3",
   "version": "3.7.6"
  }
 },
 "nbformat": 4,
 "nbformat_minor": 4
}
